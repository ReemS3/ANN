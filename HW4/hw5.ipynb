{
 "cells": [
  {
   "cell_type": "code",
   "execution_count": 2,
   "metadata": {},
   "outputs": [],
   "source": [
    "import numpy as np\n",
    "import tensorflow as tf\n",
    "import matplotlib.pyplot as plt"
   ]
  },
  {
   "cell_type": "markdown",
   "metadata": {},
   "source": [
    "## Load the data"
   ]
  },
  {
   "cell_type": "code",
   "execution_count": 3,
   "metadata": {},
   "outputs": [],
   "source": [
    "fashion_mnist = tf.keras.datasets.fashion_mnist\n",
    "\n",
    "(train_images, train_labels), (test_images, test_labels) = fashion_mnist.load_data()"
   ]
  },
  {
   "cell_type": "markdown",
   "metadata": {},
   "source": [
    "## Normalize the Input"
   ]
  },
  {
   "cell_type": "code",
   "execution_count": 4,
   "metadata": {},
   "outputs": [],
   "source": [
    "train_images = train_images / 255.0\n",
    "\n",
    "test_images = test_images / 255.0"
   ]
  },
  {
   "cell_type": "code",
   "execution_count": 5,
   "metadata": {},
   "outputs": [],
   "source": [
    "train_images = train_images.reshape(-1, 28,28, 1)\n",
    "test_images = test_images.reshape(-1, 28,28, 1)"
   ]
  },
  {
   "cell_type": "code",
   "execution_count": 6,
   "metadata": {},
   "outputs": [
    {
     "name": "stderr",
     "output_type": "stream",
     "text": [
      "2021-11-28 17:51:29.659190: I tensorflow/core/platform/cpu_feature_guard.cc:142] This TensorFlow binary is optimized with oneAPI Deep Neural Network Library (oneDNN) to use the following CPU instructions in performance-critical operations:  AVX2 FMA\n",
      "To enable them in other operations, rebuild TensorFlow with the appropriate compiler flags.\n"
     ]
    }
   ],
   "source": [
    "train_tfds = (tf.data.Dataset.from_tensor_slices((\n",
    "            tf.cast(train_images, tf.float32),\n",
    "            tf.cast(train_labels, tf.uint8))))\n",
    "\n",
    "test_tfds = (tf.data.Dataset.from_tensor_slices((\n",
    "            tf.cast(test_images, tf.float32),\n",
    "            tf.cast(test_labels, tf.uint8))))"
   ]
  },
  {
   "cell_type": "code",
   "execution_count": 7,
   "metadata": {},
   "outputs": [],
   "source": [
    "def preprocessing(ds):\n",
    "    ds = ds.map(lambda feature, label: (feature, tf.one_hot(label, 10)))\n",
    "    ds = ds.cache()\n",
    "    ds = ds.shuffle(500)\n",
    "    ds = ds.batch(50)\n",
    "    ds = ds.prefetch(2)\n",
    "    return ds"
   ]
  },
  {
   "cell_type": "code",
   "execution_count": 8,
   "metadata": {},
   "outputs": [],
   "source": [
    "train_ds = train_tfds.apply(preprocessing)\n",
    "test_ds = test_tfds.apply(preprocessing)"
   ]
  },
  {
   "cell_type": "code",
   "execution_count": 11,
   "metadata": {},
   "outputs": [],
   "source": [
    "class MyModel(tf.keras.Model):\n",
    "    def __init__(self, loss_function, optimizer= None):\n",
    "        super(MyModel, self).__init__()\n",
    "\n",
    "        self.conv_layer1 = tf.keras.layers.Conv2D(filters=15, activation='linear', \n",
    "                                       kernel_size=(3,3),  \n",
    "                                       padding=\"same\")\n",
    "        # self.leakyRelu = tf.keras.layers.LeakyReLU(alpha=0.1)\n",
    "\n",
    "        self.max_pooling1 = tf.keras.layers.MaxPool2D((2,2), padding='same')\n",
    "\n",
    "        self.conv_layer2 = tf.keras.layers.Conv2D(filters=32, activation='linear',\n",
    "                                       kernel_size=(3,3),\n",
    "                                       strides = (2,2),\n",
    "                                       padding=\"valid\")\n",
    "\n",
    "        self.global_avg_pooling = tf.keras.layers.GlobalAveragePooling2D()\n",
    "\n",
    "        self.output_layer = tf.keras.layers.Dense(10, activation='softmax')\n",
    "\n",
    "        self.loss_function = loss_function\n",
    "        self.optimizer = optimizer\n",
    "\n",
    "    \n",
    "    def call(self, inputs):\n",
    "        output_conv_layer1 = self.conv_layer1(inputs)\n",
    "        # output_leaky_relu = self.leakyRelu(output_conv_layer1)\n",
    "        output_maxpooling = self.max_pooling1(output_conv_layer1)\n",
    "        output_conv_layer2 = self.conv_layer2(output_maxpooling)\n",
    "        output_global_avg_pooling = self.global_avg_pooling(output_conv_layer2)\n",
    "        output_conv_layer2 = self.output_layer(output_global_avg_pooling)\n",
    "\n",
    "        return output_conv_layer2\n",
    "        \n",
    "    def train(self, input, target):\n",
    "        with tf.GradientTape() as tape:\n",
    "            prediction = self(input)\n",
    "            loss = self.loss_function(prediction, target)\n",
    "        gradients = tape.gradient(loss, self.trainable_variables)\n",
    "        if self.optimizer:\n",
    "            self.optimizer.apply_gradients(zip(gradients, self.trainable_variables))\n",
    "        same_prediction = np.round(target,0) == np.round(prediction, 0)\n",
    "        accuracy = np.mean(same_prediction)\n",
    "        return loss, accuracy\n",
    "\n",
    "    def test(self, test_data):\n",
    "        \"\"\"Calculate the mean loss and accuracy of the model over all elements\n",
    "        of test_data.\n",
    "\n",
    "        :param test_data: model is evaulated for test_data\n",
    "        :type test_data: tensorflow 'Dataset'\n",
    "        :return: mean loss and mean accuracy for all datapoints\n",
    "        :rtype: tuple of two floats\n",
    "        \"\"\"\n",
    "        # aggregator lists for tracking the loss and accuracy\n",
    "        test_accuracy_agg = []\n",
    "        test_loss_agg = []\n",
    "        # iterate over all input-target pairs in test_data\n",
    "        for input, target in test_data:\n",
    "            prediction = self(input)\n",
    "            loss = self.loss_function(target, prediction)\n",
    "            same_prediction = np.round(target,0) == np.round(prediction, 0)\n",
    "            accuracy = np.mean(same_prediction)\n",
    "            # add loss and accuracy to aggregators\n",
    "            test_loss_agg.append(loss.numpy())\n",
    "            test_accuracy_agg.append(np.mean(accuracy))\n",
    "        # calculate mean loss and accuracy\n",
    "        test_loss = tf.reduce_mean(test_loss_agg)\n",
    "        test_accuracy = tf.reduce_mean(test_accuracy_agg)\n",
    "        return test_loss, test_accuracy"
   ]
  },
  {
   "cell_type": "code",
   "execution_count": 12,
   "metadata": {},
   "outputs": [
    {
     "name": "stderr",
     "output_type": "stream",
     "text": [
      "2021-11-28 17:52:37.316153: I tensorflow/compiler/mlir/mlir_graph_optimization_pass.cc:185] None of the MLIR Optimization Passes are enabled (registered 2)\n"
     ]
    },
    {
     "name": "stdout",
     "output_type": "stream",
     "text": [
      "Epoch 0 starting with test-accuracy of 0.9\n",
      "Epoch 1 starting with test-accuracy of 0.82\n",
      "Epoch 2 starting with test-accuracy of 0.82\n",
      "Epoch 3 starting with test-accuracy of 0.82\n",
      "Epoch 4 starting with test-accuracy of 0.82\n",
      "Epoch 5 starting with test-accuracy of 0.82\n",
      "Epoch 6 starting with test-accuracy of 0.82\n",
      "Epoch 7 starting with test-accuracy of 0.82\n",
      "Epoch 8 starting with test-accuracy of 0.82\n",
      "Epoch 9 starting with test-accuracy of 0.82\n"
     ]
    }
   ],
   "source": [
    "tf.keras.backend.clear_session()\n",
    "\n",
    "# Setting Hyperparameters\n",
    "EPOCHS = 10\n",
    "LEARNING_RATE = 0.1\n",
    "\n",
    "# Initialize the loss-function\n",
    "cross_entropy_loss = tf.keras.losses.CategoricalCrossentropy()\n",
    "# Initialize the optimizer\n",
    "optimizer = tf.keras.optimizers.SGD(LEARNING_RATE)\n",
    "# Initialize the model\n",
    "model = MyModel(cross_entropy_loss, optimizer)\n",
    "\n",
    "# Initialize lists for tracking loss and accuracy\n",
    "train_losses = []\n",
    "train_accuracies = []\n",
    "test_losses = []\n",
    "test_accuracies = []\n",
    "\n",
    "# Testing models performance before training starts.\n",
    "# Test-Dataset\n",
    "test_loss, test_accuracy = model.test(test_ds)\n",
    "test_losses.append(test_loss)\n",
    "test_accuracies.append(test_accuracy)\n",
    "# Train-Dataset\n",
    "train_loss, train_accuracy = model.test(test_ds)\n",
    "train_losses.append(train_loss)\n",
    "train_accuracies.append(train_accuracy)\n",
    "\n",
    "# Training for EPOCHS.\n",
    "for epoch in range(EPOCHS+1):\n",
    "    print(f'Epoch {str(epoch)} starting with test-accuracy of {np.round(test_accuracies[-1],3)}')\n",
    "    epoch_loss_agg = []\n",
    "    epoch_accuracy_agg = []\n",
    "    for input, target in train_ds:\n",
    "        train_loss, train_accuracy = model.train(input, target)\n",
    "        epoch_loss_agg.append(train_loss)\n",
    "        epoch_accuracy_agg.append(train_accuracy)\n",
    "\n",
    "    # track training loss and accuracy\n",
    "    train_losses.append(tf.reduce_mean(epoch_loss_agg))\n",
    "    train_accuracies.append(tf.reduce_mean(epoch_accuracy_agg))\n",
    "    # track loss and accuracy for test-dataset\n",
    "    test_loss, test_accuracy = model.test(test_ds)\n",
    "    test_losses.append(test_loss)\n",
    "    test_accuracies.append(test_accuracy)"
   ]
  },
  {
   "cell_type": "code",
   "execution_count": null,
   "metadata": {},
   "outputs": [
    {
     "data": {
      "text/plain": [
       "<matplotlib.legend.Legend at 0x1752bebb0>"
      ]
     },
     "execution_count": 10,
     "metadata": {},
     "output_type": "execute_result"
    },
    {
     "data": {
      "image/png": "[encoded data removed]",
      "text/plain": [
       "<Figure size 1440x432 with 2 Axes>"
      ]
     },
     "metadata": {
      "needs_background": "light"
     },
     "output_type": "display_data"
    }
   ],
   "source": [
    "fig, axs = plt.subplots(1, 2)\n",
    "fig.set_size_inches(20, 6)\n",
    "\n",
    "fig.suptitle('Training Progress for Genomics Bacteria Classification')\n",
    "axs[0].plot(train_losses, color='orange', label='train losses')\n",
    "axs[0].plot(test_losses, color='green', label='test losses')\n",
    "axs[0].set(ylabel='Losses')\n",
    "axs[0].legend()\n",
    "axs[1].plot(train_accuracies, color='orange', label='train accuracies')\n",
    "axs[1].plot(test_accuracies, color='green', label='test accuracies')\n",
    "\n",
    "axs[1].set(xlabel='Epochs', ylabel='Accuracies')\n",
    "axs[1].legend()"
   ]
  }
 ],
 "metadata": {
  "interpreter": {
   "hash": "30f88c8c45d4e68f8a278667591c58212674e9884f4c71af0e7bba161bccc2b9"
  },
  "kernelspec": {
   "display_name": "Python 3.9.7 64-bit ('hw1': venv)",
   "language": "python",
   "name": "python3"
  },
  "language_info": {
   "codemirror_mode": {
    "name": "ipython",
    "version": 3
   },
   "file_extension": ".py",
   "mimetype": "text/x-python",
   "name": "python",
   "nbconvert_exporter": "python",
   "pygments_lexer": "ipython3",
   "version": "3.9.7"
  },
  "orig_nbformat": 4
 },
 "nbformat": 4,
 "nbformat_minor": 2
}
