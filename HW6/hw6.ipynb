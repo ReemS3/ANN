{
 "cells": [
  {
   "cell_type": "code",
   "execution_count": 1,
   "metadata": {},
   "outputs": [],
   "source": [
    "import numpy as np\n",
    "import tensorflow as tf\n",
    "import matplotlib.pyplot as plt\n",
    "from keras.utils.np_utils import to_categorical  \n",
    "from tensorflow.keras.layers import Conv2D, BatchNormalization, AveragePooling2D, Dense, Activation, GlobalAveragePooling2D, ZeroPadding2D, add, Concatenate"
   ]
  },
  {
   "cell_type": "markdown",
   "metadata": {},
   "source": [
    "## Load the data"
   ]
  },
  {
   "cell_type": "code",
   "execution_count": 2,
   "metadata": {},
   "outputs": [],
   "source": [
    "cifar10 = tf.keras.datasets.cifar10\n",
    "\n",
    "(train_images, train_labels), (test_images, test_labels) = cifar10.load_data()"
   ]
  },
  {
   "cell_type": "code",
   "execution_count": 3,
   "metadata": {},
   "outputs": [],
   "source": [
    "train_images = train_images.reshape(train_images.shape[0], train_images.shape[1], train_images.shape[2], 3)\n",
    "test_images = test_images.reshape(test_images.shape[0], test_images.shape[1], test_images.shape[2], 3)"
   ]
  },
  {
   "cell_type": "markdown",
   "metadata": {},
   "source": [
    "## one hot encode the labels"
   ]
  },
  {
   "cell_type": "code",
   "execution_count": 4,
   "metadata": {},
   "outputs": [],
   "source": [
    "train_labels = to_categorical(train_labels, num_classes=10)\n",
    "test_labels = to_categorical(test_labels, num_classes=10)"
   ]
  },
  {
   "cell_type": "markdown",
   "metadata": {},
   "source": [
    "## Normalize the Input"
   ]
  },
  {
   "cell_type": "code",
   "execution_count": 5,
   "metadata": {},
   "outputs": [],
   "source": [
    "def normalize(x):\n",
    "    \"\"\"\n",
    "        argument\n",
    "            - x: input image data in numpy array [32, 32, 3]\n",
    "        return\n",
    "            - normalized x \n",
    "    \"\"\"\n",
    "    min_val = np.min(x)\n",
    "    max_val = np.max(x)\n",
    "    x = (x-min_val) / (max_val-min_val)\n",
    "    return x"
   ]
  },
  {
   "cell_type": "code",
   "execution_count": 6,
   "metadata": {},
   "outputs": [],
   "source": [
    "train_images = normalize(train_images)\n",
    "test_images = normalize(test_images)"
   ]
  },
  {
   "cell_type": "code",
   "execution_count": 7,
   "metadata": {},
   "outputs": [
    {
     "name": "stderr",
     "output_type": "stream",
     "text": [
      "2021-12-05 19:35:02.685539: I tensorflow/core/platform/cpu_feature_guard.cc:142] This TensorFlow binary is optimized with oneAPI Deep Neural Network Library (oneDNN) to use the following CPU instructions in performance-critical operations:  AVX2 FMA\n",
      "To enable them in other operations, rebuild TensorFlow with the appropriate compiler flags.\n"
     ]
    }
   ],
   "source": [
    "train_tfds = (tf.data.Dataset.from_tensor_slices((\n",
    "            tf.cast(train_images, tf.float32),\n",
    "            tf.cast(train_labels, tf.uint8))))\n",
    "\n",
    "test_tfds = (tf.data.Dataset.from_tensor_slices((\n",
    "            tf.cast(test_images, tf.float32),\n",
    "            tf.cast(test_labels, tf.uint8))))"
   ]
  },
  {
   "cell_type": "markdown",
   "metadata": {},
   "source": [
    "## Preprocess the data"
   ]
  },
  {
   "cell_type": "code",
   "execution_count": 8,
   "metadata": {},
   "outputs": [],
   "source": [
    "def preprocessing(ds):\n",
    "    ds = ds.map(lambda feature, label: (feature,label))\n",
    "    ds = ds.cache()\n",
    "    ds = ds.shuffle(32)\n",
    "    ds = ds.batch(64)\n",
    "    ds = ds.prefetch(20)\n",
    "    return ds"
   ]
  },
  {
   "cell_type": "code",
   "execution_count": 9,
   "metadata": {},
   "outputs": [],
   "source": [
    "train_ds = train_tfds.apply(preprocessing)\n",
    "test_ds = test_tfds.apply(preprocessing)"
   ]
  },
  {
   "cell_type": "markdown",
   "metadata": {},
   "source": [
    "## The Residual Block Class"
   ]
  },
  {
   "cell_type": "code",
   "execution_count": 12,
   "metadata": {},
   "outputs": [],
   "source": [
    "class ResidualBlock(tf.keras.Model):\n",
    "    def __init__(self):\n",
    "        super(ResidualBlock, self).__init__()\n",
    "        self.conv_layer1 = Conv2D(filters=6,\n",
    "                                       kernel_size=(1,1),  \n",
    "                                       padding=\"same\")\n",
    "        self.batchnorm1 = BatchNormalization()\n",
    "\n",
    "        self.conv_layer2 = Conv2D(filters=5,\n",
    "                                       kernel_size=(3,3),  \n",
    "                                       padding=\"same\")\n",
    "        self.batchnorm2 = BatchNormalization()\n",
    "\n",
    "        self.conv_layer3 = Conv2D(filters=3, \n",
    "                                       kernel_size=(1,1),  \n",
    "                                       padding=\"same\")\n",
    "        self.batchnorm3 = BatchNormalization()\n",
    "\n",
    "\n",
    "    def call(self, inputs):\n",
    "        conv_layer1_output = self.conv_layer1(inputs)\n",
    "        batchnorm1_output = self.batchnorm1(conv_layer1_output, training = True)\n",
    "\n",
    "        conv_layer2_output = self.conv_layer2(batchnorm1_output)\n",
    "        batchnorm2_output = self.batchnorm2(conv_layer2_output, training = True)\n",
    "        \n",
    "        conv_layer3_output = self.conv_layer3(batchnorm2_output)\n",
    "        batchnorm3_output = self.batchnorm3(conv_layer3_output, training = True)\n",
    "        \n",
    "\n",
    "        return add([inputs, batchnorm3_output])"
   ]
  },
  {
   "cell_type": "markdown",
   "metadata": {},
   "source": [
    "## The Residual Net Class"
   ]
  },
  {
   "cell_type": "code",
   "execution_count": 11,
   "metadata": {},
   "outputs": [],
   "source": [
    "class ResNet(tf.keras.Model):\n",
    "    def __init__(self, number_of_res_block, loss_function, optimizer= None):\n",
    "        super(ResNet, self).__init__()\n",
    "\n",
    "        self.res_blocks = [ResidualBlock() for _ in range(number_of_res_block)]\n",
    "\n",
    "\n",
    "        self.global_avg_pooling = GlobalAveragePooling2D()\n",
    "\n",
    "        self.output_layer = Dense(10, activation='softmax')\n",
    "\n",
    "        self.loss_function = loss_function\n",
    "        self.optimizer = optimizer\n",
    "\n",
    "    \n",
    "    def call(self, inputs):\n",
    "        output_res_blocks = inputs\n",
    "\n",
    "        for res_block in self.res_blocks:\n",
    "            output_res_blocks = res_block(output_res_blocks)\n",
    "\n",
    "        output_global_avg_pooling = self.global_avg_pooling(output_res_blocks)\n",
    "        output = self.output_layer(output_global_avg_pooling)\n",
    "\n",
    "        return output\n",
    "    \n",
    "     \n",
    "    def train(self, input, target):\n",
    "        with tf.GradientTape() as tape:\n",
    "            prediction = self(input)\n",
    "            loss = self.loss_function(target, prediction)\n",
    "            \n",
    "        gradients = tape.gradient(loss, self.trainable_variables)\n",
    "        if self.optimizer:\n",
    "            self.optimizer.apply_gradients(zip(gradients, self.trainable_variables))\n",
    "        same_prediction = np.round(target,0) == np.round(prediction, 0)\n",
    "        accuracy = np.mean(same_prediction)\n",
    "        return loss, accuracy\n",
    "\n",
    "    def test(self, test_data):\n",
    "        # aggregator lists for tracking the loss and accuracy\n",
    "        test_accuracy_agg = []\n",
    "        test_loss_agg = []\n",
    "        # iterate over all input-target pairs in test_data\n",
    "        for input, target in test_data:\n",
    "            prediction = self(input)\n",
    "            loss = self.loss_function(target, prediction)\n",
    "            same_prediction = np.round(target,0) == np.round(prediction, 0)\n",
    "            accuracy = np.mean(same_prediction)\n",
    "            # add loss and accuracy to aggregators\n",
    "            test_loss_agg.append(loss.numpy())\n",
    "            test_accuracy_agg.append(np.mean(accuracy))\n",
    "        # calculate mean loss and accuracy\n",
    "        test_loss = tf.reduce_mean(test_loss_agg)\n",
    "        test_accuracy = tf.reduce_mean(test_accuracy_agg)\n",
    "        return test_loss, test_accuracy"
   ]
  },
  {
   "cell_type": "code",
   "execution_count": 51,
   "metadata": {},
   "outputs": [
    {
     "name": "stdout",
     "output_type": "stream",
     "text": [
      "Epoch 0 starting with test-accuracy of 0.9\n",
      "Epoch 1 starting with test-accuracy of 0.9\n",
      "Epoch 2 starting with test-accuracy of 0.9\n",
      "Epoch 3 starting with test-accuracy of 0.9\n",
      "Epoch 4 starting with test-accuracy of 0.9\n",
      "Epoch 5 starting with test-accuracy of 0.9\n",
      "Epoch 6 starting with test-accuracy of 0.9\n"
     ]
    }
   ],
   "source": [
    "tf.keras.backend.clear_session()\n",
    "\n",
    "# Setting Hyperparameters\n",
    "EPOCHS = 6\n",
    "LEARNING_RATE = 0.001\n",
    "\n",
    "# Initialize the loss-function\n",
    "cross_entropy_loss = tf.keras.losses.CategoricalCrossentropy()\n",
    "# Initialize the optimizer\n",
    "optimizer = tf.keras.optimizers.Adam(LEARNING_RATE)\n",
    "# Initialize the model\n",
    "model_resnet = ResNet(number_of_res_block= 2, loss_function = cross_entropy_loss, optimizer = optimizer)\n",
    "\n",
    "# Initialize lists for tracking loss and accuracy\n",
    "train_losses = []\n",
    "train_accuracies = []\n",
    "test_losses = []\n",
    "test_accuracies = []\n",
    "\n",
    "# Testing models performance before training starts.\n",
    "# Test-Dataset\n",
    "test_loss, test_accuracy = model_resnet.test(test_ds)\n",
    "test_losses.append(test_loss)\n",
    "test_accuracies.append(test_accuracy)\n",
    "# Train-Dataset\n",
    "train_loss, train_accuracy = model_resnet.test(train_ds)\n",
    "train_losses.append(train_loss)\n",
    "train_accuracies.append(train_accuracy)\n",
    "\n",
    "# Training for EPOCHS.\n",
    "for epoch in range(EPOCHS+1):\n",
    "    print(f'Epoch {str(epoch)} starting with test-accuracy of {np.round(test_accuracies[-1],3)}')\n",
    "    epoch_loss_agg = []\n",
    "    epoch_accuracy_agg = []\n",
    "    for input, target in train_ds:\n",
    "        train_loss, train_accuracy = model_resnet.train(input, target)\n",
    "        epoch_loss_agg.append(train_loss)\n",
    "        epoch_accuracy_agg.append(train_accuracy)\n",
    "\n",
    "    # track training loss and accuracy\n",
    "    train_losses.append(tf.reduce_mean(epoch_loss_agg))\n",
    "    train_accuracies.append(tf.reduce_mean(epoch_accuracy_agg))\n",
    "    # track loss and accuracy for test-dataset\n",
    "    test_loss, test_accuracy = model_resnet.test(test_ds)\n",
    "    test_losses.append(test_loss)\n",
    "    test_accuracies.append(test_accuracy)"
   ]
  },
  {
   "cell_type": "code",
   "execution_count": 52,
   "metadata": {},
   "outputs": [
    {
     "data": {
      "text/plain": [
       "<matplotlib.legend.Legend at 0x140efaf10>"
      ]
     },
     "execution_count": 52,
     "metadata": {},
     "output_type": "execute_result"
    },
    {
     "data": {
      "image/png": "[encoded data removed]",
      "text/plain": [
       "<Figure size 1440x432 with 2 Axes>"
      ]
     },
     "metadata": {
      "needs_background": "light"
     },
     "output_type": "display_data"
    }
   ],
   "source": [
    "fig, axs = plt.subplots(1, 2)\n",
    "fig.set_size_inches(20, 6)\n",
    "\n",
    "fig.suptitle('Training Progress for Cifar-10 Classification using the ResNet Architecture')\n",
    "axs[0].plot(train_losses, color='orange', label='train losses')\n",
    "axs[0].plot(test_losses, color='green', label='test losses')\n",
    "axs[0].set(ylabel='Losses')\n",
    "axs[0].legend()\n",
    "axs[1].plot(train_accuracies, color='orange', label='train accuracies')\n",
    "axs[1].plot(test_accuracies, color='green', label='test accuracies')\n",
    "\n",
    "axs[1].set(xlabel='Epochs', ylabel='Accuracies')\n",
    "axs[1].legend()"
   ]
  },
  {
   "cell_type": "markdown",
   "metadata": {},
   "source": [
    "## The Transition Layer Class"
   ]
  },
  {
   "cell_type": "code",
   "execution_count": 45,
   "metadata": {},
   "outputs": [],
   "source": [
    "class TransitionLayers(tf.keras.Model):\n",
    "    def __init__(self, x):\n",
    "        super(TransitionLayers, self).__init__()\n",
    "\n",
    "        reduce_filters_to = x // 2 \n",
    "        self.conv_layer = Conv2D(filters=reduce_filters_to, \n",
    "                                       kernel_size=(1,1),  \n",
    "                                       padding=\"valid\", use_bias=False)\n",
    "\n",
    "        self.batchnorm = BatchNormalization()\n",
    "\n",
    "        self.activation = Activation(tf.nn.relu)\n",
    "\n",
    "        self.pool = AveragePooling2D(pool_size=(2,2), strides = (2,2), padding = 'valid')\n",
    "\n",
    "    def call(self, input):\n",
    "        output_conv_layer = self.conv_layer(input)\n",
    "        output_batchnorm = self.batchnorm(output_conv_layer, training = True)\n",
    "\n",
    "        output_relu = self.activation(output_batchnorm)\n",
    "\n",
    "        output = self.pool(output_relu)\n",
    "\n",
    "        return output\n",
    "        "
   ]
  },
  {
   "cell_type": "markdown",
   "metadata": {},
   "source": [
    "## Block Class"
   ]
  },
  {
   "cell_type": "code",
   "execution_count": 46,
   "metadata": {},
   "outputs": [],
   "source": [
    "class Block(tf.keras.layers.Layer):\n",
    "    def __init__(self, num_filters, padding):\n",
    "        super(Block, self).__init__()\n",
    "        \n",
    "        self.batchnorm = BatchNormalization()\n",
    "        self.activation = Activation(tf.nn.relu)\n",
    "\n",
    "        self.conv_layer = Conv2D(filters=num_filters, \n",
    "                                       kernel_size=(1,1),  \n",
    "                                       padding=padding, use_bias=False)\n",
    "\n",
    "    def call(self, input):\n",
    "        batchnorm_output = self.batchnorm(input, training = True)\n",
    "        activation_output = self.activation(batchnorm_output)\n",
    "\n",
    "        output = self.conv_layer(activation_output)\n",
    "\n",
    "        return Concatenate(axis=3)([input, output])"
   ]
  },
  {
   "cell_type": "markdown",
   "metadata": {},
   "source": [
    "## Dense Block Class"
   ]
  },
  {
   "cell_type": "code",
   "execution_count": 21,
   "metadata": {},
   "outputs": [],
   "source": [
    "class DenseBlock(tf.keras.layers.Layer):\n",
    "    def __init__(self, num_filters, new_channels, num_blocks):\n",
    "        super(DenseBlock, self).__init__()\n",
    "        # the first convolution does zero-padding to avoid losing information in the edges of the input\n",
    "        self.block1 = Block(num_filters, padding='valid')\n",
    "        self.blocks = []\n",
    "        if num_blocks > 2 and num_blocks == len(new_channels):\n",
    "            self.blocks = [Block(new_channel, padding='same') for new_channel in new_channels]\n",
    "\n",
    "        else:\n",
    "            self.block2 = Block(new_channels, padding='same')\n",
    "\n",
    "    def call(self, input):\n",
    "        output_block1 = self.block1(input)\n",
    "        output_blocks = output_block1\n",
    "\n",
    "        if len(self.blocks) > 1:\n",
    "            for block in self.blocks:\n",
    "                output_blocks = block(output_blocks)\n",
    "            return output_blocks\n",
    "            \n",
    "        return self.block2(output_block1)\n"
   ]
  },
  {
   "cell_type": "markdown",
   "metadata": {},
   "source": [
    "## Dense Net Class"
   ]
  },
  {
   "cell_type": "code",
   "execution_count": 47,
   "metadata": {},
   "outputs": [],
   "source": [
    "class DenseNet(tf.keras.Model):\n",
    "    def __init__(self, loss_function, optimizer= None):\n",
    "        super(DenseNet, self).__init__()\n",
    "\n",
    "        self.optimizer = optimizer\n",
    "        self.loss_function = loss_function\n",
    "        # apply symmetric padding\n",
    "        self.zero_padding1 = ZeroPadding2D(padding=(3, 3), data_format=None)\n",
    "\n",
    "        self.conv1  = Conv2D(filters = 64, kernel_size=(3,3), padding=\"valid\", use_bias=False)\n",
    "\n",
    "        self.batch_norm1 = BatchNormalization(epsilon=1.001e-05)\n",
    "        self.activation1 = Activation(tf.nn.relu)\n",
    "\n",
    "        # apply symmetric padding again as implemented in the courseware\n",
    "        self.zero_padding2 = ZeroPadding2D(padding=(1, 1), data_format=None)\n",
    "\n",
    "        self.pool1 = AveragePooling2D(pool_size=(3,3), strides=(2,2), padding=\"valid\")\n",
    "\n",
    "        self.dense_blocks = []\n",
    "        # 2 DenseBlocks forming the first Block\n",
    "        self.dense_blocks.append(DenseBlock(num_filters=128, new_channels=32, num_blocks=2))\n",
    "\n",
    "        # Transition layer to reduce resolution and reduce the number of feature maps to half\n",
    "        self.dense_blocks.append(TransitionLayers(128))\n",
    "\n",
    "        # 2 DenseBlocks forming the second Block\n",
    "        self.dense_blocks.append(DenseBlock(num_filters=128, new_channels=32, num_blocks=2))\n",
    "\n",
    "        # Transition layer to reduce resolution and reduce the number of feature maps to half\n",
    "        self.dense_blocks.append(TransitionLayers(128))\n",
    "\n",
    "        # 2 DenseBlocks forming the third Block\n",
    "        self.dense_blocks.append(DenseBlock(num_filters=128, new_channels=32, num_blocks=2))\n",
    "\n",
    "        self.batch_norm2 = BatchNormalization(epsilon=1.001e-05)\n",
    "        self.activation2 = Activation(tf.nn.relu)\n",
    "\n",
    "        # We use global average pooling to transform the feature maps into feature vectors that work with Dense Layers.\n",
    "        self.pool2 = GlobalAveragePooling2D()\n",
    "\n",
    "        self.ouput = Dense(10, activation=\"softmax\")\n",
    "\n",
    "\n",
    "    def call(self, input):\n",
    "        ouput_zero_padding1 = self.zero_padding1(input)\n",
    "        output_conv1 = self.conv1(ouput_zero_padding1)\n",
    "\n",
    "        output_batch_norm1 = self.batch_norm1(output_conv1, training = True)\n",
    "        output_activation1 = self.activation1(output_batch_norm1)\n",
    "\n",
    "        output_zero_padding2 = self.zero_padding2(output_activation1)\n",
    "\n",
    "        output_pool1 = self.pool1(output_zero_padding2)\n",
    "\n",
    "        output_blocks = output_pool1\n",
    "        for block in self.dense_blocks:\n",
    "            output_blocks = block(output_blocks)\n",
    "\n",
    "        output_batch_norm2 = self.batch_norm2(output_blocks, training = True)\n",
    "        output_activation2 = self.activation2(output_batch_norm2)\n",
    "\n",
    "\n",
    "        output_pool2 = self.pool2(output_activation2)\n",
    "\n",
    "        return self.ouput(output_pool2)\n",
    "\n",
    "    def train(self, input, target):\n",
    "        with tf.GradientTape() as tape:\n",
    "            prediction = self(input)\n",
    "            loss = self.loss_function(target, prediction)\n",
    "            \n",
    "        gradients = tape.gradient(loss, self.trainable_variables)\n",
    "        if self.optimizer:\n",
    "            self.optimizer.apply_gradients(zip(gradients, self.trainable_variables))\n",
    "        same_prediction = np.round(target,0) == np.round(prediction, 0)\n",
    "        accuracy = np.mean(same_prediction)\n",
    "        return loss, accuracy\n",
    "\n",
    "    def test(self, test_data):\n",
    "        # aggregator lists for tracking the loss and accuracy\n",
    "        test_accuracy_agg = []\n",
    "        test_loss_agg = []\n",
    "        # iterate over all input-target pairs in test_data\n",
    "        for input, target in test_data:\n",
    "            prediction = self(input)\n",
    "            loss = self.loss_function(target, prediction)\n",
    "            same_prediction = np.round(target,0) == np.round(prediction, 0)\n",
    "            accuracy = np.mean(same_prediction)\n",
    "            # add loss and accuracy to aggregators\n",
    "            test_loss_agg.append(loss.numpy())\n",
    "            test_accuracy_agg.append(np.mean(accuracy))\n",
    "        # calculate mean loss and accuracy\n",
    "        test_loss = tf.reduce_mean(test_loss_agg)\n",
    "        test_accuracy = tf.reduce_mean(test_accuracy_agg)\n",
    "        return test_loss, test_accuracy"
   ]
  },
  {
   "cell_type": "code",
   "execution_count": 48,
   "metadata": {},
   "outputs": [
    {
     "name": "stdout",
     "output_type": "stream",
     "text": [
      "Epoch 0 starting with test-accuracy of 0.899\n",
      "Epoch 1 starting with test-accuracy of 0.918\n",
      "Epoch 2 starting with test-accuracy of 0.924\n",
      "Epoch 3 starting with test-accuracy of 0.928\n",
      "Epoch 4 starting with test-accuracy of 0.93\n",
      "Epoch 5 starting with test-accuracy of 0.932\n",
      "Epoch 6 starting with test-accuracy of 0.934\n"
     ]
    }
   ],
   "source": [
    "tf.keras.backend.clear_session()\n",
    "\n",
    "# Setting Hyperparameters\n",
    "EPOCHS = 6\n",
    "LEARNING_RATE = 0.001\n",
    "\n",
    "# Initialize the loss-function\n",
    "cross_entropy_loss = tf.keras.losses.CategoricalCrossentropy()\n",
    "# Initialize the optimizer\n",
    "optimizer = tf.keras.optimizers.Adam(LEARNING_RATE)\n",
    "# Initialize the model\n",
    "model = DenseNet(loss_function = cross_entropy_loss, optimizer = optimizer)\n",
    "\n",
    "# Initialize lists for tracking loss and accuracy\n",
    "train_losses = []\n",
    "train_accuracies = []\n",
    "test_losses = []\n",
    "test_accuracies = []\n",
    "\n",
    "# Testing models performance before training starts.\n",
    "# Test-Dataset\n",
    "test_loss, test_accuracy = model.test(test_ds)\n",
    "test_losses.append(test_loss)\n",
    "test_accuracies.append(test_accuracy)\n",
    "# Train-Dataset\n",
    "train_loss, train_accuracy = model.test(train_ds)\n",
    "train_losses.append(train_loss)\n",
    "train_accuracies.append(train_accuracy)\n",
    "\n",
    "# Training for EPOCHS.\n",
    "for epoch in range(EPOCHS+1):\n",
    "    print(f'Epoch {str(epoch)} starting with test-accuracy of {np.round(test_accuracies[-1],3)}')\n",
    "    epoch_loss_agg = []\n",
    "    epoch_accuracy_agg = []\n",
    "    for input, target in train_ds:\n",
    "        train_loss, train_accuracy = model.train(input, target)\n",
    "        epoch_loss_agg.append(train_loss)\n",
    "        epoch_accuracy_agg.append(train_accuracy)\n",
    "\n",
    "    # track training loss and accuracy\n",
    "    train_losses.append(tf.reduce_mean(epoch_loss_agg))\n",
    "    train_accuracies.append(tf.reduce_mean(epoch_accuracy_agg))\n",
    "    # track loss and accuracy for test-dataset\n",
    "    test_loss, test_accuracy = model.test(test_ds)\n",
    "    test_losses.append(test_loss)\n",
    "    test_accuracies.append(test_accuracy)"
   ]
  },
  {
   "cell_type": "code",
   "execution_count": 49,
   "metadata": {},
   "outputs": [
    {
     "data": {
      "text/plain": [
       "<matplotlib.legend.Legend at 0x140e13d30>"
      ]
     },
     "execution_count": 49,
     "metadata": {},
     "output_type": "execute_result"
    },
    {
     "data": {
      "image/png": "[encoded data removed]",
      "text/plain": [
       "<Figure size 1440x432 with 2 Axes>"
      ]
     },
     "metadata": {
      "needs_background": "light"
     },
     "output_type": "display_data"
    }
   ],
   "source": [
    "fig, axs = plt.subplots(1, 2)\n",
    "fig.set_size_inches(20, 6)\n",
    "\n",
    "fig.suptitle('Training Progress for Cifar-10 Classification using the DenseNet Architecture')\n",
    "axs[0].plot(train_losses, color='orange', label='train losses')\n",
    "axs[0].plot(test_losses, color='green', label='test losses')\n",
    "axs[0].set(ylabel='Losses')\n",
    "axs[0].legend()\n",
    "axs[1].plot(train_accuracies, color='orange', label='train accuracies')\n",
    "axs[1].plot(test_accuracies, color='green', label='test accuracies')\n",
    "\n",
    "axs[1].set(xlabel='Epochs', ylabel='Accuracies')\n",
    "axs[1].legend()"
   ]
  },
  {
   "cell_type": "code",
   "execution_count": 50,
   "metadata": {},
   "outputs": [
    {
     "name": "stdout",
     "output_type": "stream",
     "text": [
      "Model: \"dense_net\"\n",
      "_________________________________________________________________\n",
      "Layer (type)                 Output Shape              Param #   \n",
      "=================================================================\n",
      "zero_padding2d (ZeroPadding2 multiple                  0         \n",
      "_________________________________________________________________\n",
      "conv2d (Conv2D)              multiple                  1728      \n",
      "_________________________________________________________________\n",
      "batch_normalization (BatchNo multiple                  256       \n",
      "_________________________________________________________________\n",
      "activation (Activation)      multiple                  0         \n",
      "_________________________________________________________________\n",
      "zero_padding2d_1 (ZeroPaddin multiple                  0         \n",
      "_________________________________________________________________\n",
      "average_pooling2d (AveragePo multiple                  0         \n",
      "_________________________________________________________________\n",
      "dense_block (DenseBlock)     multiple                  15360     \n",
      "_________________________________________________________________\n",
      "transition_layers (Transitio multiple                  14592     \n",
      "_________________________________________________________________\n",
      "dense_block_1 (DenseBlock)   multiple                  15360     \n",
      "_________________________________________________________________\n",
      "transition_layers_1 (Transit multiple                  14592     \n",
      "_________________________________________________________________\n",
      "dense_block_2 (DenseBlock)   multiple                  15360     \n",
      "_________________________________________________________________\n",
      "batch_normalization_9 (Batch multiple                  896       \n",
      "_________________________________________________________________\n",
      "activation_9 (Activation)    multiple                  0         \n",
      "_________________________________________________________________\n",
      "global_average_pooling2d (Gl multiple                  0         \n",
      "_________________________________________________________________\n",
      "dense (Dense)                multiple                  2250      \n",
      "=================================================================\n",
      "Total params: 80,394\n",
      "Trainable params: 78,026\n",
      "Non-trainable params: 2,368\n",
      "_________________________________________________________________\n"
     ]
    }
   ],
   "source": [
    "model.summary()"
   ]
  },
  {
   "cell_type": "code",
   "execution_count": 53,
   "metadata": {},
   "outputs": [
    {
     "name": "stdout",
     "output_type": "stream",
     "text": [
      "Model: \"res_net\"\n",
      "_________________________________________________________________\n",
      "Layer (type)                 Output Shape              Param #   \n",
      "=================================================================\n",
      "residual_block (ResidualBloc multiple                  373       \n",
      "_________________________________________________________________\n",
      "residual_block_1 (ResidualBl multiple                  373       \n",
      "_________________________________________________________________\n",
      "global_average_pooling2d (Gl multiple                  0         \n",
      "_________________________________________________________________\n",
      "dense (Dense)                multiple                  40        \n",
      "=================================================================\n",
      "Total params: 786\n",
      "Trainable params: 730\n",
      "Non-trainable params: 56\n",
      "_________________________________________________________________\n"
     ]
    }
   ],
   "source": [
    "model_resnet.summary()"
   ]
  },
  {
   "cell_type": "code",
   "execution_count": null,
   "metadata": {},
   "outputs": [],
   "source": []
  }
 ],
 "metadata": {
  "interpreter": {
   "hash": "30f88c8c45d4e68f8a278667591c58212674e9884f4c71af0e7bba161bccc2b9"
  },
  "kernelspec": {
   "display_name": "Python 3.9.7 64-bit ('hw1': venv)",
   "language": "python",
   "name": "python3"
  },
  "language_info": {
   "codemirror_mode": {
    "name": "ipython",
    "version": 3
   },
   "file_extension": ".py",
   "mimetype": "text/x-python",
   "name": "python",
   "nbconvert_exporter": "python",
   "pygments_lexer": "ipython3",
   "version": "3.9.7"
  },
  "orig_nbformat": 4
 },
 "nbformat": 4,
 "nbformat_minor": 2
}
