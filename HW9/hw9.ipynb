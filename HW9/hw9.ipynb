{
 "cells": [
  {
   "cell_type": "code",
   "execution_count": 87,
   "metadata": {},
   "outputs": [],
   "source": [
    "import os\n",
    "import numpy as np\n",
    "import tensorflow as tf\n",
    "import matplotlib.pyplot as plt \n",
    "from tensorflow.keras.layers import Flatten, Conv2D, Conv2DTranspose, BatchNormalization, Reshape, Dense, LeakyReLU"
   ]
  },
  {
   "cell_type": "markdown",
   "metadata": {},
   "source": [
    "## Download the data"
   ]
  },
  {
   "cell_type": "code",
   "execution_count": 1,
   "metadata": {},
   "outputs": [
    {
     "name": "stdout",
     "output_type": "stream",
     "text": [
      "[b'aircraft carrier', b'airplane', b'alarm clock', b'ambulance', b'angel', b'animal migration', b'ant', b'anvil', b'apple', b'arm']\n"
     ]
    }
   ],
   "source": [
    "import urllib\n",
    "categories = [line.rstrip(b'\\n') for line in urllib.request.urlopen('https://raw.githubusercontent.com/googlecreativelab/quickdraw-dataset/master/categories.txt')]\n",
    "print(categories[:10])\n",
    "category = 'candle'"
   ]
  },
  {
   "cell_type": "code",
   "execution_count": 240,
   "metadata": {},
   "outputs": [
    {
     "name": "stdout",
     "output_type": "stream",
     "text": [
      "141545 images to train on\n"
     ]
    }
   ],
   "source": [
    "# Creates a folder to download the original drawings into.\n",
    "# We chose to use the numpy format : 1x784 pixel vectors, with values going from 0 (white) to 255 (black). We reshape them later to 28x28 grids and normalize the pixel intensity to [-1, 1]\n",
    "\n",
    "if not os.path.isdir('npy_files'):\n",
    "    os.mkdir('npy_files')\n",
    "    \n",
    "url = f'https://storage.googleapis.com/quickdraw_dataset/full/numpy_bitmap/{category}.npy'  \n",
    "urllib.request.urlretrieve(url, f'npy_files/{category}.npy')\n",
    "\n",
    "images = np.load(f'npy_files/{category}.npy')\n",
    "print(f'{len(images)} images to train on')\n",
    "\n",
    "# You can limit the amount of images you use for training by setting :\n",
    "train_images = images[:110000]\n",
    "# You should also define a samller subset of the images for testing..\n",
    "test_images = images[110000:]\n",
    "# Notice that this to numpy format contains 1x784 pixel vectors, with values going from 0 (white) to 255 (black). We reshape them later to 28x28 grids and normalize the pixel intensity to [-1, 1]"
   ]
  },
  {
   "cell_type": "markdown",
   "metadata": {},
   "source": [
    "## Reshape the data"
   ]
  },
  {
   "cell_type": "code",
   "execution_count": 241,
   "metadata": {},
   "outputs": [],
   "source": [
    "train_images = train_images.reshape(-1, 28,28, 1)\n",
    "test_images = test_images.reshape(-1, 28,28, 1)"
   ]
  },
  {
   "cell_type": "markdown",
   "metadata": {},
   "source": [
    "## Normalize the data"
   ]
  },
  {
   "cell_type": "code",
   "execution_count": 242,
   "metadata": {},
   "outputs": [],
   "source": [
    "def normalize(data):\n",
    "    normalized_input = (data - np.amin(data)) / (np.amax(data) - np.amin(data))\n",
    "    return 2*normalized_input - 1"
   ]
  },
  {
   "cell_type": "code",
   "execution_count": 243,
   "metadata": {},
   "outputs": [],
   "source": [
    "train_images = normalize(train_images)\n",
    "test_images = normalize(test_images)"
   ]
  },
  {
   "cell_type": "code",
   "execution_count": 244,
   "metadata": {},
   "outputs": [
    {
     "data": {
      "text/plain": [
       "(31545, 28, 28, 1)"
      ]
     },
     "execution_count": 244,
     "metadata": {},
     "output_type": "execute_result"
    }
   ],
   "source": [
    "test_images.shape"
   ]
  },
  {
   "cell_type": "code",
   "execution_count": 245,
   "metadata": {},
   "outputs": [],
   "source": [
    "train_tfds = tf.data.Dataset.from_tensor_slices(train_images)\n",
    "\n",
    "test_tfds = tf.data.Dataset.from_tensor_slices(test_images)"
   ]
  },
  {
   "cell_type": "markdown",
   "metadata": {},
   "source": [
    "## Preprocess the data"
   ]
  },
  {
   "cell_type": "code",
   "execution_count": 278,
   "metadata": {},
   "outputs": [],
   "source": [
    "def preprocessing(ds):\n",
    "    ds = ds.map(lambda image: image)\n",
    "    ds = ds.cache()\n",
    "    ds = ds.shuffle(10000)\n",
    "    ds = ds.batch(100)\n",
    "    ds = ds.prefetch(10)\n",
    "    return ds"
   ]
  },
  {
   "cell_type": "code",
   "execution_count": 279,
   "metadata": {},
   "outputs": [],
   "source": [
    "train_ds = train_tfds.apply(preprocessing)\n",
    "test_ds = test_tfds.apply(preprocessing)"
   ]
  },
  {
   "cell_type": "code",
   "execution_count": 248,
   "metadata": {},
   "outputs": [
    {
     "data": {
      "image/png": "[encoded data removed]",
      "text/plain": [
       "<Figure size 432x288 with 1 Axes>"
      ]
     },
     "metadata": {
      "needs_background": "light"
     },
     "output_type": "display_data"
    }
   ],
   "source": [
    "fig, axarr = plt.subplots()\n",
    "for input in test_ds:\n",
    "    axarr.set_title(\"example image\")\n",
    "    axarr.get_xaxis().set_visible(False)\n",
    "    axarr.get_yaxis().set_visible(False)\n",
    "    axarr.imshow(tf.squeeze(input)[2].numpy().astype(\"uint8\"), cmap='gray')\n"
   ]
  },
  {
   "cell_type": "markdown",
   "metadata": {},
   "source": [
    "## The Discriminator"
   ]
  },
  {
   "cell_type": "code",
   "execution_count": 285,
   "metadata": {},
   "outputs": [],
   "source": [
    "class Discriminator(tf.keras.Model):\n",
    "    def __init__(self):\n",
    "        super(Discriminator, self).__init__()\n",
    "        self.input_layer = tf.keras.Input(shape=(28,28,1))\n",
    "        self.layers_ls = [Conv2D(32, kernel_size=(3, 3), strides=(2, 2), padding=\"same\", activation=LeakyReLU(alpha=0.01)),\n",
    "                          BatchNormalization(),\n",
    "                          Conv2D(16, kernel_size=(3, 3), strides=(2, 2),padding=\"same\", activation=LeakyReLU(alpha=0.01)),\n",
    "                          BatchNormalization(),\n",
    "                          Flatten(), \n",
    "                          Dense(1, activation=\"sigmoid\")]\n",
    "                          \n",
    "        self.out = self.call(self.input_layer)\n",
    "        \n",
    "    def call(self, input):\n",
    "        output = input\n",
    "\n",
    "        for layer in self.layers_ls:\n",
    "            output = layer(output, training = True)\n",
    "\n",
    "        return output"
   ]
  },
  {
   "cell_type": "markdown",
   "metadata": {},
   "source": [
    "## The Generator"
   ]
  },
  {
   "cell_type": "code",
   "execution_count": 293,
   "metadata": {},
   "outputs": [],
   "source": [
    "class Generator(tf.keras.Model):\n",
    "    def __init__(self):\n",
    "        super(Generator, self).__init__()\n",
    "        self.input_layer = tf.keras.layers.Input(shape=(100))\n",
    "        \n",
    "        self.layers_ls = [Dense(7*7*100, activation=\"relu\"),\n",
    "                          BatchNormalization(),\n",
    "                          Reshape((7, 7, 100)),\n",
    "                          Conv2DTranspose(filters=64, kernel_size=(3, 3), strides=(2, 2), padding=\"same\", activation=LeakyReLU(alpha=0.01), use_bias=False, \\\n",
    "                          kernel_regularizer=tf.keras.regularizers.L2(0.2)),\n",
    "                          BatchNormalization(),\n",
    "                          Conv2DTranspose(filters=16, kernel_size=(3, 3), strides=(2, 2), padding=\"same\", activation=LeakyReLU(alpha=0.01), \\\n",
    "                          kernel_regularizer=tf.keras.regularizers.L2(0.2)),\n",
    "                          BatchNormalization(),\n",
    "                          Conv2D(filters=1, kernel_size=(3, 3), padding=\"same\", activation=\"tanh\", kernel_regularizer=tf.keras.regularizers.L2(0.2))]\n",
    "\n",
    "        self.out = self.call(self.input_layer)\n",
    "                          \n",
    "\n",
    "    def call(self, input):\n",
    "        output = input\n",
    "        \n",
    "        for layer in self.layers_ls:\n",
    "            output = layer(output, training=True)\n",
    "\n",
    "        return output\n"
   ]
  },
  {
   "cell_type": "markdown",
   "metadata": {},
   "source": [
    "## The GAN"
   ]
  },
  {
   "cell_type": "code",
   "execution_count": 287,
   "metadata": {},
   "outputs": [],
   "source": [
    "class GAN(tf.keras.Model):\n",
    "    def __init__(self, loss_function_generator, loss_function_discriminator, optimizer_generator, optimizer_discriminator):\n",
    "        super(GAN, self).__init__()\n",
    "\n",
    "        self.discriminator = Discriminator()\n",
    "        self.generator = Generator()\n",
    "\n",
    "        self.loss_function_generator = loss_function_generator\n",
    "        self.optimizer_generator = optimizer_generator\n",
    "\n",
    "        self.loss_function_discriminator = loss_function_discriminator\n",
    "        self.optimizer_discriminator = optimizer_discriminator\n",
    "\n",
    "        self.matching = tf.keras.metrics.BinaryAccuracy()\n",
    "\n",
    "    @tf.function\n",
    "    def call(self, input):\n",
    "        generated_image = self.generator(input)\n",
    "        output = self.discriminator(generated_image)\n",
    "        return generated_image, output\n",
    "    \n",
    "     \n",
    "    def train(self, input):\n",
    "        noise_input =  tf.random.normal(shape=(100, 100))\n",
    "\n",
    "        with tf.GradientTape() as G_tape, tf.GradientTape() as D_tape:\n",
    "            fake_data = self.generator(noise_input)\n",
    "            fake_data_pred = self.discriminator(fake_data)\n",
    "            real_data_pred = self.discriminator(input)\n",
    "            \n",
    "            D_loss = self.loss_function_discriminator(tf.ones_like(real_data_pred), real_data_pred) \\\n",
    "                        + self.loss_function_discriminator(tf.zeros_like(fake_data_pred), fake_data_pred)\n",
    "             \n",
    "            G_loss = self.loss_function_generator(tf.ones_like(fake_data_pred), fake_data_pred)\n",
    "            \n",
    "            \n",
    "            D_gradients = D_tape.gradient(D_loss, self.discriminator.trainable_variables)\n",
    "            self.optimizer_discriminator.apply_gradients(zip(D_gradients, self.discriminator.trainable_variables))\n",
    "\n",
    "            G_gradients = G_tape.gradient(G_loss, self.generator.trainable_variables)\n",
    "            self.optimizer_generator.apply_gradients(zip(G_gradients, self.generator.trainable_variables))\n",
    "\n",
    "        labels = tf.concat((tf.ones_like(real_data_pred), tf.zeros_like(fake_data_pred)), axis=0)\n",
    "        predictions = tf.concat((real_data_pred, fake_data_pred), axis=0)\n",
    "\n",
    "        return fake_data, self.matching(labels, predictions)\n",
    "\n",
    "    def test(self, test_data):\n",
    "        # aggregator lists for tracking the loss\n",
    "        test_loss_agg = []\n",
    "        # iterate over all input-target pairs in test_data\n",
    "        for input in test_data:\n",
    "            output = self.discriminator(input)\n",
    "            prediction_labels = tf.ones_like(output)\n",
    "\n",
    "            # add loss to aggregators\n",
    "            test_loss_agg.append(self.matching(output, prediction_labels))\n",
    "\n",
    "        # calculate mean loss\n",
    "        test_loss = tf.reduce_mean(test_loss_agg)\n",
    "\n",
    "        return test_loss"
   ]
  },
  {
   "cell_type": "code",
   "execution_count": 316,
   "metadata": {},
   "outputs": [],
   "source": [
    "def visualise_images(original_images, epoch = None):\n",
    "    fig, axarr = plt.subplots()\n",
    "    axarr.set_title(\"the generated image\")\n",
    "    axarr.get_xaxis().set_visible(False)\n",
    "    axarr.get_yaxis().set_visible(False)\n",
    "    if epoch:\n",
    "        axarr.imshow(original_images[epoch][0, :, :, 0], cmap='gray')\n",
    "    else:\n",
    "        axarr.imshow(original_images, cmap='gray')\n",
    "\n",
    "    plt.show()"
   ]
  },
  {
   "cell_type": "code",
   "execution_count": 297,
   "metadata": {},
   "outputs": [
    {
     "name": "stdout",
     "output_type": "stream",
     "text": [
      "Epoch 0 starting with test-loss of 0.0\n",
      "WARNING:tensorflow:5 out of the last 11 calls to <function GAN.call at 0x14f3af5e0> triggered tf.function retracing. Tracing is expensive and the excessive number of tracings could be due to (1) creating @tf.function repeatedly in a loop, (2) passing tensors with different shapes, (3) passing Python objects instead of tensors. For (1), please define your @tf.function outside of the loop. For (2), @tf.function has experimental_relax_shapes=True option that relaxes argument shapes that can avoid unnecessary retracing. For (3), please refer to https://www.tensorflow.org/guide/function#controlling_retracing and https://www.tensorflow.org/api_docs/python/tf/function for  more details.\n"
     ]
    },
    {
     "data": {
      "image/png": "[encoded data removed]",
      "text/plain": [
       "<Figure size 432x288 with 1 Axes>"
      ]
     },
     "metadata": {
      "needs_background": "light"
     },
     "output_type": "display_data"
    },
    {
     "name": "stdout",
     "output_type": "stream",
     "text": [
      "Epoch 1 starting with test-loss of 0.5389999747276306\n"
     ]
    },
    {
     "data": {
      "image/png": "[encoded data removed]",
      "text/plain": [
       "<Figure size 432x288 with 1 Axes>"
      ]
     },
     "metadata": {
      "needs_background": "light"
     },
     "output_type": "display_data"
    },
    {
     "name": "stdout",
     "output_type": "stream",
     "text": [
      "Epoch 2 starting with test-loss of 0.6629999876022339\n"
     ]
    },
    {
     "data": {
      "image/png": "[encoded data removed]",
      "text/plain": [
       "<Figure size 432x288 with 1 Axes>"
      ]
     },
     "metadata": {
      "needs_background": "light"
     },
     "output_type": "display_data"
    },
    {
     "name": "stdout",
     "output_type": "stream",
     "text": [
      "Epoch 3 starting with test-loss of 0.7160000205039978\n"
     ]
    },
    {
     "data": {
      "image/png": "[encoded data removed]",
      "text/plain": [
       "<Figure size 432x288 with 1 Axes>"
      ]
     },
     "metadata": {
      "needs_background": "light"
     },
     "output_type": "display_data"
    },
    {
     "name": "stdout",
     "output_type": "stream",
     "text": [
      "Epoch 4 starting with test-loss of 0.7419999837875366\n"
     ]
    },
    {
     "data": {
      "image/png": "[encoded data removed]",
      "text/plain": [
       "<Figure size 432x288 with 1 Axes>"
      ]
     },
     "metadata": {
      "needs_background": "light"
     },
     "output_type": "display_data"
    },
    {
     "name": "stdout",
     "output_type": "stream",
     "text": [
      "Epoch 5 starting with test-loss of 0.7559999823570251\n"
     ]
    },
    {
     "data": {
      "image/png": "[encoded data removed]",
      "text/plain": [
       "<Figure size 432x288 with 1 Axes>"
      ]
     },
     "metadata": {
      "needs_background": "light"
     },
     "output_type": "display_data"
    },
    {
     "name": "stdout",
     "output_type": "stream",
     "text": [
      "Epoch 6 starting with test-loss of 0.7670000195503235\n"
     ]
    },
    {
     "data": {
      "image/png": "[encoded data removed]",
      "text/plain": [
       "<Figure size 432x288 with 1 Axes>"
      ]
     },
     "metadata": {
      "needs_background": "light"
     },
     "output_type": "display_data"
    },
    {
     "name": "stdout",
     "output_type": "stream",
     "text": [
      "Epoch 7 starting with test-loss of 0.7730000019073486\n"
     ]
    },
    {
     "data": {
      "image/png": "[encoded data removed]",
      "text/plain": [
       "<Figure size 432x288 with 1 Axes>"
      ]
     },
     "metadata": {
      "needs_background": "light"
     },
     "output_type": "display_data"
    },
    {
     "name": "stdout",
     "output_type": "stream",
     "text": [
      "Epoch 8 starting with test-loss of 0.777999997138977\n"
     ]
    },
    {
     "data": {
      "image/png": "[encoded data removed]",
      "text/plain": [
       "<Figure size 432x288 with 1 Axes>"
      ]
     },
     "metadata": {
      "needs_background": "light"
     },
     "output_type": "display_data"
    },
    {
     "name": "stdout",
     "output_type": "stream",
     "text": [
      "Epoch 9 starting with test-loss of 0.781000018119812\n"
     ]
    },
    {
     "data": {
      "image/png": "[encoded data removed]",
      "text/plain": [
       "<Figure size 432x288 with 1 Axes>"
      ]
     },
     "metadata": {
      "needs_background": "light"
     },
     "output_type": "display_data"
    },
    {
     "name": "stdout",
     "output_type": "stream",
     "text": [
      "Epoch 10 starting with test-loss of 0.7820000052452087\n"
     ]
    },
    {
     "data": {
      "image/png": "[encoded data removed]",
      "text/plain": [
       "<Figure size 432x288 with 1 Axes>"
      ]
     },
     "metadata": {
      "needs_background": "light"
     },
     "output_type": "display_data"
    }
   ],
   "source": [
    "tf.keras.backend.clear_session()\n",
    "\n",
    "# Setting Hyperparameters\n",
    "EPOCHS = 10\n",
    "LEARNING_RATE = 0.001\n",
    "\n",
    "# Initialize the loss-functions\n",
    "mse_loss_G = tf.keras.losses.BinaryCrossentropy()\n",
    "mse_loss_D = tf.keras.losses.BinaryCrossentropy()\n",
    "\n",
    "# Initialize the optimizers\n",
    "optimizer_G = tf.keras.optimizers.Adam(LEARNING_RATE)\n",
    "optimizer_D = tf.keras.optimizers.Adam(LEARNING_RATE)\n",
    "\n",
    "# Initialize the model\n",
    "model = GAN(mse_loss_G, mse_loss_D, optimizer_G, optimizer_D)\n",
    "\n",
    "# Initialize lists for tracking loss\n",
    "train_losses = []\n",
    "test_losses = []\n",
    "\n",
    "# Testing models performance before training starts.\n",
    "# Test-Dataset\n",
    "test_loss = model.test(test_ds)\n",
    "test_losses.append(test_loss)\n",
    "\n",
    "# Train-Dataset\n",
    "train_loss = model.test(train_ds)\n",
    "train_losses.append(train_loss)\n",
    "\n",
    "generated_images = []\n",
    "\n",
    "# Training for EPOCHS.\n",
    "for epoch in range(EPOCHS+1):\n",
    "    print(f'Epoch {str(epoch)} starting with test-loss of {np.round(test_losses[-1],3)}')\n",
    "    epoch_loss_agg = []\n",
    "    for input in train_ds:\n",
    "        generated_image, train_loss =  model.train(input)\n",
    "        epoch_loss_agg.append(train_loss) \n",
    "\n",
    "    generated_images.append(model(tf.random.normal(shape=(1, 100)))[0])   \n",
    "\n",
    "    # track training loss\n",
    "    train_losses.append(tf.reduce_mean(epoch_loss_agg))\n",
    "\n",
    "\n",
    "    # track loss for test-dataset\n",
    "    test_loss = model.test(test_ds)\n",
    "    test_losses.append(test_loss)\n",
    "\n",
    "    # compare the results \n",
    "    visualise_images(generated_images, epoch)\n"
   ]
  },
  {
   "cell_type": "markdown",
   "metadata": {},
   "source": [
    "The number shown between the pictures is the discriminator' loss over the test dataset, which shows that the discriminator is giving a high probability for real data, i.e. recognising real data as true."
   ]
  },
  {
   "cell_type": "code",
   "execution_count": 298,
   "metadata": {},
   "outputs": [
    {
     "data": {
      "text/plain": [
       "<matplotlib.legend.Legend at 0x14dc61dc0>"
      ]
     },
     "execution_count": 298,
     "metadata": {},
     "output_type": "execute_result"
    },
    {
     "data": {
      "image/png": "[encoded data removed]",
      "text/plain": [
       "<Figure size 720x432 with 1 Axes>"
      ]
     },
     "metadata": {
      "needs_background": "light"
     },
     "output_type": "display_data"
    }
   ],
   "source": [
    "fig, axs = plt.subplots(1, 1)\n",
    "fig.set_size_inches(10, 6)\n",
    "\n",
    "fig.suptitle('Training Progress for Quick Draw reconstructing using the GAN')\n",
    "axs.plot(train_losses, color='orange', label='train losses')\n",
    "axs.plot(test_losses, color='green', label='test losses')\n",
    "axs.set(xlabel = 'Epochs', ylabel='Losses')\n",
    "axs.legend()\n"
   ]
  },
  {
   "cell_type": "code",
   "execution_count": 336,
   "metadata": {},
   "outputs": [
    {
     "data": {
      "image/png": "[encoded data removed]",
      "text/plain": [
       "<Figure size 432x288 with 1 Axes>"
      ]
     },
     "metadata": {
      "needs_background": "light"
     },
     "output_type": "display_data"
    }
   ],
   "source": [
    "example = tf.random.normal(shape=(5, 100))\n",
    "output_generator = model.generator(example)[0]\n",
    "\n",
    "visualise_images(output_generator)"
   ]
  },
  {
   "cell_type": "markdown",
   "metadata": {},
   "source": [
    "After 10 epochs the generator performs well in generating new samples that are similar to the input dataset."
   ]
  },
  {
   "cell_type": "code",
   "execution_count": null,
   "metadata": {},
   "outputs": [],
   "source": []
  }
 ],
 "metadata": {
  "interpreter": {
   "hash": "30f88c8c45d4e68f8a278667591c58212674e9884f4c71af0e7bba161bccc2b9"
  },
  "kernelspec": {
   "display_name": "Python 3.9.7 64-bit ('hw1': venv)",
   "language": "python",
   "name": "python3"
  },
  "language_info": {
   "codemirror_mode": {
    "name": "ipython",
    "version": 3
   },
   "file_extension": ".py",
   "mimetype": "text/x-python",
   "name": "python",
   "nbconvert_exporter": "python",
   "pygments_lexer": "ipython3",
   "version": "3.9.10"
  },
  "orig_nbformat": 4
 },
 "nbformat": 4,
 "nbformat_minor": 2
}
